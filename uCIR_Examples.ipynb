{
 "cells": [
  {
   "cell_type": "markdown",
   "metadata": {},
   "source": [
    "# uCIR Examples"
   ]
  },
  {
   "cell_type": "code",
   "execution_count": null,
   "metadata": {},
   "outputs": [],
   "source": [
    "int n = 3;\n",
    "\n",
    "int doubleMe (int x) {\n",
    "    return x * x;\n",
    "}\n",
    "\n",
    "void main () {\n",
    "    int v = n;\n",
    "    v = doubleMe (v);\n",
    "    assert v == n * n;\n",
    "    return;\n",
    "}\n",
    "\n",
    "('global_int', '@n', 3)\n",
    "('define', 'doubleMe')\n",
    "('alloc_int', '%2')\n",
    "('store_int', '%0', '%2')\n",
    "('load_int', '%2', '%3')\n",
    "('load_int', '%2', '%4')\n",
    "('mul_int', '%3', '%4', '%5')\n",
    "('return_int', '%5')\n",
    "('define', 'main')\n",
    "('alloc_int', '%1')\n",
    "('store_int', '@n', '%1')\n",
    "('load_int', '%1', '%2')\n",
    "('param_int', '%2')\n",
    "('call', 'doubleMe', '%3')\n",
    "('store_int', '%3', '%1')\n",
    "('load_int', '@n', '%4')\n",
    "('load_int', '@n', '%5')\n",
    "('mul_int', '%4', '%5', '%6')\n",
    "('load_int', '%1', '%7')\n",
    "('eq_int', '%7', '%6', '%8')\n",
    "('cbranch', '%8', '%9', '%10')\n",
    "('9',)\n",
    "('jump', '%11')\n",
    "('10',)\n",
    "('print_string', 'assertion_fail on 10:12')\n",
    "('11',)\n",
    "('return_void',)"
   ]
  },
  {
   "cell_type": "code",
   "execution_count": null,
   "metadata": {},
   "outputs": [],
   "source": [
    "int main() {\n",
    "  int x, y = 3;\n",
    "  float z = 4.5;\n",
    "  x = y + 5;\n",
    "  z = (float)x;\n",
    "  y = (int)z;\n",
    "  return 0;\n",
    "}\n",
    "\n",
    "('define', 'main')\n",
    "('alloc_int', '%1')\n",
    "('alloc_int', '%2')\n",
    "('alloc_float', '%3')\n",
    "('literal_int', 3, '%4')\n",
    "('store_int', '%4', '%2')\n",
    "('literal_float', 4.5, '%5')\n",
    "('store_float', '%5', '%3')\n",
    "('literal_int', 5, '%6')\n",
    "('load_int', '%2', '%7')\n",
    "('add_int', '%7', '%6', '%8')\n",
    "('store_int', '%8', '%1')\n",
    "('load_int', '%1', '%9')\n",
    "('sitofp', '%9', '%10')\n",
    "('store_float', '%10', '%3')\n",
    "('load_float', '%3', '%11')\n",
    "('fptosi', '%11', '%12')\n",
    "('store_int', '%12', '%2')\n",
    "('literal_int', 0, '%13')\n",
    "('return_int', '%13')"
   ]
  },
  {
   "cell_type": "code",
   "execution_count": null,
   "metadata": {},
   "outputs": [],
   "source": []
  }
 ],
 "metadata": {
  "@webio": {
   "lastCommId": null,
   "lastKernelId": null
  },
  "kernelspec": {
   "display_name": "Python 3",
   "language": "python",
   "name": "python3"
  },
  "language_info": {
   "codemirror_mode": {
    "name": "ipython",
    "version": 3
   },
   "file_extension": ".py",
   "mimetype": "text/x-python",
   "name": "python",
   "nbconvert_exporter": "python",
   "pygments_lexer": "ipython3",
   "version": "3.7.6"
  },
  "latex_envs": {
   "LaTeX_envs_menu_present": true,
   "autoclose": false,
   "autocomplete": true,
   "bibliofile": "biblio.bib",
   "cite_by": "apalike",
   "current_citInitial": 1,
   "eqLabelWithNumbers": true,
   "eqNumInitial": 1,
   "hotkeys": {
    "equation": "Ctrl-E",
    "itemize": "Ctrl-I"
   },
   "labels_anchors": false,
   "latex_user_defs": false,
   "report_style_numbering": false,
   "user_envs_cfg": false
  },
  "toc": {
   "base_numbering": 1,
   "nav_menu": {},
   "number_sections": true,
   "sideBar": true,
   "skip_h1_title": false,
   "title_cell": "Table of Contents",
   "title_sidebar": "Contents",
   "toc_cell": false,
   "toc_position": {},
   "toc_section_display": true,
   "toc_window_display": false
  }
 },
 "nbformat": 4,
 "nbformat_minor": 2
}
